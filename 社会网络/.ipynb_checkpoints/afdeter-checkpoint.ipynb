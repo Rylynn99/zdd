{
 "cells": [
  {
   "cell_type": "code",
   "execution_count": 1,
   "id": "0e559ff1",
   "metadata": {},
   "outputs": [
    {
     "data": {
      "image/png": "[encoded data removed]",
      "text/plain": [
       "<Figure size 432x288 with 1 Axes>"
      ]
     },
     "metadata": {},
     "output_type": "display_data"
    }
   ],
   "source": [
    "import pandas as pd\n",
    "import networkx as nx\n",
    "import matplotlib.pyplot as plt\n",
    "from networkx.algorithms import community\n",
    "\n",
    "plt.rcParams['font.sans-serif']=['SimHei']\n",
    "\n",
    "plt.rcParams['axes.unicode_minus'] = False\n",
    "\n",
    "# 加载“威慑纪元”的人物关系数据\n",
    "afdeter_relation_path = '.\\\\数据\\\\person_relationships0/威慑后.csv'  # 替换为实际文件路径\n",
    "afdeter_count_path = '.\\\\数据\\\\new_person_counts/威慑后.csv'  # 替换为人物出场次数数据文件路径\n",
    "\n",
    "\n",
    "# 读取人物关系数据\n",
    "afdeter_data = pd.read_csv(afdeter_relation_path, encoding='GBK')\n",
    "# 读取人物出场次数数据\n",
    "afdeter_counts = pd.read_csv(afdeter_count_path, encoding='GBK')\n",
    "\n",
    "# 创建网络图\n",
    "G_afdeter = nx.Graph()\n",
    "for _, row in afdeter_data.iterrows():\n",
    "    G_afdeter.add_edge(row['Person1'], row['Person2'], weight=row['realtionships'])\n",
    "\n",
    "# 将出场次数添加为节点属性\n",
    "count_dict = afdeter_counts.set_index('Person')['count'].to_dict()\n",
    "for node in G_afdeter.nodes():\n",
    "    G_afdeter.nodes[node]['count'] = count_dict.get(node, 1)  # 默认值为1\n",
    "    \n",
    "pos = nx.circular_layout(G_afdeter)\n",
    "nx.draw_networkx(G_afdeter, pos, with_labels=True, node_size=50, node_color ='red')"
   ]
  },
  {
   "cell_type": "code",
   "execution_count": null,
   "id": "ffaea598",
   "metadata": {},
   "outputs": [],
   "source": [
    "#中心性的度量\n",
    "deg=G_afdeter.degree\n",
    "sorted(dict(deg).items(), key=lambda kv: (-kv[1], kv[0]))[:10] ## display a histogram of node degrees          \n",
    "#点度中心度\n",
    "degree_centrality = nx.degree_centrality(G_afdeter)\n",
    "sorted(degree_centrality.items(), key=lambda x:x[1], reverse=True)[:10]\n",
    "#介数中心性\n",
    "betweenness_centrality = nx.betweenness_centrality(G_afdeter)\n",
    "sorted(betweenness_centrality.items(), key=lambda x:x[1], reverse=True)[:10]\n",
    "\n",
    "#紧密中心性\n",
    "closeness_centrality = nx.closeness_centrality(G_afdeter)\n",
    "sorted(closeness_centrality.items(), key=lambda x:x[1], reverse=True)[:10]\n",
    "#特征向量中心性\n",
    "eigenvector_centrality = nx.eigenvector_centrality(G_afdeter)\n",
    "sorted(eigenvector_centrality.items(), key=lambda x:x[1], reverse=True)[:10]\n",
    "#pagerank算法\n",
    "pagerank = nx.pagerank(G_afdeter, alpha=0.85)\n",
    "sorted(pagerank.items(), key=lambda x: x[1], reverse=True)[:10]\n"
   ]
  },
  {
   "cell_type": "code",
   "execution_count": null,
   "id": "48395f65",
   "metadata": {},
   "outputs": [],
   "source": [
    "#链接预测\n",
    "#公共邻居\n",
    "preds = nx.common_neighbor_centrality(G_afdeter, alpha=1)\n",
    "sorted(preds, key=lambda x:x[2], reverse=True)[:10]  \n",
    "#jaccard系数\n",
    "preds = nx.jaccard_coefficient(G_afdeter)\n",
    "sorted(preds, key=lambda x:x[2], reverse=True)[:10]\n",
    "#资源分配指数\n",
    "preds = nx.resource_allocation_index(G_afdeter)\n",
    "sorted(preds, key=lambda x:x[2], reverse=True)[:10]\n",
    "#AA指数\n",
    "preds = nx.adamic_adar_index(G_afdeter)\n",
    "sorted(preds, key=lambda x:x[2], reverse=True)[:10] \n",
    "#优先链接\n",
    "preds = nx.preferential_attachment(G_afdeter)\n",
    "sorted(preds, key=lambda x:x[2], reverse=True)[:10]  \n",
    "\n"
   ]
  },
  {
   "cell_type": "code",
   "execution_count": null,
   "id": "6f6d798f",
   "metadata": {},
   "outputs": [],
   "source": [
    "#社交网络密度\n",
    "density = nx.density(G_afdeter) \n",
    "print(\"社交网络密度为：\",density)"
   ]
  },
  {
   "cell_type": "code",
   "execution_count": null,
   "id": "11a1c614",
   "metadata": {},
   "outputs": [],
   "source": [
    "#社区发现\n",
    "#连通分量\n",
    "nx.number_connected_components(G_afdeter)\n",
    "for i in nx.connected_components(G_afdeter):#计算每个连通分量节点数量\n",
    "    print(len(i))\n",
    "# 连通分量按照节点数量排序，取最大的连通分量\n",
    "c = sorted(nx.connected_components(G_afdeter), key=lambda x:len(x), reverse=True)[0]    \n",
    "#绘制最大连通分量的子图    \n",
    "cc = G_afdeter.subgraph(c)\n",
    "nx.draw_networkx(cc, with_labels=True) "
   ]
  },
  {
   "cell_type": "code",
   "execution_count": null,
   "id": "43f9d63f",
   "metadata": {},
   "outputs": [],
   "source": [
    "#聚集系数\n",
    "clustering = nx.clustering(cc)\n",
    "sorted(clustering.items(), key = lambda x:x[1], reverse=True)[:10]"
   ]
  },
  {
   "cell_type": "code",
   "execution_count": null,
   "id": "02ec001a",
   "metadata": {},
   "outputs": [],
   "source": [
    "社区发现\n",
    "def set_node_community(G, communities):\n",
    "    for c, v_c in enumerate(communities):\n",
    "        for v in v_c:\n",
    "            G.nodes[v]['community'] = c+1\n",
    "\n",
    "def set_edge_community(G):\n",
    "    for v, w, in G.edges:\n",
    "        if G.nodes[v]['community'] == G.nodes[w]['community']:\n",
    "            G.edges[v, w]['community'] = G.nodes[v]['community']\n",
    "        else:\n",
    "            G.edges[v, w]['community'] = 0\n",
    "\n",
    "def get_color(i, r_off=1, g_off=1, b_off=1):\n",
    "    r0, g0, b0 = 0, 0, 0\n",
    "    n = 16\n",
    "    low, high = 0.1, 0.9\n",
    "    span = high - low\n",
    "    r = low + span * (((i + r_off) * 3) % n) / (n-1)\n",
    "    g = low + span * (((i + g_off) * 5) % n) / (n-1)\n",
    "    b = low + span * (((i + b_off) * 7) % n) / (n-1)\n",
    "    return (r, g, b)\n",
    "\n",
    "def draw_community(G, communities):\n",
    "    set_node_community(G, communities)\n",
    "    set_edge_community(G)\n",
    "    external = [(v, w) for v, w in G.edges if G.edges[v, w]['community'] == 0]\n",
    "    internal = [(v, w) for v, w in G.edges if G.edges[v, w]['community'] > 0]\n",
    "    # internal_color = [get_color(GU.nodes[v]['community']) for v in GU.nodes]\n",
    "    internal_color = [get_color(G.edges[e]['community']) for e in internal]\n",
    "    node_color = [get_color(G.nodes[v]['community']) for v in G.nodes]\n",
    "\n",
    "    plt.figure(figsize=(15, 15))\n",
    "    pos = nx.spring_layout(G)\n",
    "    nx.draw_networkx_edges(G, pos=pos, node_size=0, edgelist=external, edge_color='#ff3333')\n",
    "    nx.draw_networkx(G, pos=pos, node_color=node_color, edgelist=internal, edge_color=internal_color)\n"
   ]
  },
  {
   "cell_type": "code",
   "execution_count": null,
   "id": "312a059c",
   "metadata": {},
   "outputs": [],
   "source": [
    "\n",
    "#基于层次的聚类\n",
    "#GN算法\n",
    "from networkx.algorithms.community import girvan_newman\n",
    "gn_communities = girvan_newman(G_afdeter)\n",
    "gn_communities = list(gn_communities)[0]\n",
    "gn_communities\n",
    "draw_community(G_afdeter, gn_communities)\n",
    "from networkx.algorithms.community import modularity\n",
    "modularity(G_afdeter, gn_communities)"
   ]
  },
  {
   "cell_type": "code",
   "execution_count": null,
   "id": "4f3f8827",
   "metadata": {},
   "outputs": [],
   "source": [
    "#基于凝聚的算法\n",
    "#贪婪模块度算法\n",
    "from networkx.algorithms.community import naive_greedy_modularity_communities\n",
    "\n",
    "gm_communities = naive_greedy_modularity_communities(G_afdeter)\n",
    "gm_communities = list(gm_communities)\n",
    "gm_communities\n",
    "draw_community(G_afdeter, gm_communities)\n",
    "from networkx.algorithms.community import modularity\n",
    "modularity(G_afdeter, gm_communities)"
   ]
  },
  {
   "cell_type": "code",
   "execution_count": null,
   "id": "9bf8b3b0",
   "metadata": {},
   "outputs": [],
   "source": [
    "#louvain算法\n",
    "from networkx.algorithms.community import louvain_communities\n",
    "lv_communities = sorted(louvain_communities(G_afdeter), key=len, reverse=True)\n",
    "lv_communities  \n",
    "draw_community(G_afdeter, lv_communities) \n",
    "from networkx.algorithms.community import modularity\n",
    "modularity(G_afdeter, lv_communities)\n"
   ]
  },
  {
   "cell_type": "code",
   "execution_count": null,
   "id": "efea9a26",
   "metadata": {},
   "outputs": [],
   "source": [
    "#标签传播法\n",
    "from networkx.algorithms.community import label_propagation\n",
    "\n",
    "lp_communities = label_propagation.label_propagation_communities(G_afdeter)\n",
    "lp_communities = list(lp_communities)\n",
    "lp_communities\n",
    "draw_community(G_afdeter, lp_communities)\n",
    "from networkx.algorithms import community\n",
    "community.modularity(G_afdeter, lp_communities)              \n"
   ]
  }
 ],
 "metadata": {
  "kernelspec": {
   "display_name": "Python 3 (ipykernel)",
   "language": "python",
   "name": "python3"
  },
  "language_info": {
   "codemirror_mode": {
    "name": "ipython",
    "version": 3
   },
   "file_extension": ".py",
   "mimetype": "text/x-python",
   "name": "python",
   "nbconvert_exporter": "python",
   "pygments_lexer": "ipython3",
   "version": "3.9.7"
  }
 },
 "nbformat": 4,
 "nbformat_minor": 5
}
