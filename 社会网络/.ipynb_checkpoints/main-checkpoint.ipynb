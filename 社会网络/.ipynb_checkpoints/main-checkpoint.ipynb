{
 "cells": [
  {
   "cell_type": "code",
   "execution_count": null,
   "id": "ba09f72d",
   "metadata": {},
   "outputs": [],
   "source": [
    "# %load C:\\Users\\17702\\Desktop\\社会网络\\main.py\n",
    "import spacy\n",
    "import csv\n",
    "\n",
    "# 加载spaCy的中文模型\n",
    "nlp = spacy.load(\"zh_core_web_sm\")\n",
    "\n",
    "# 打开并读取文本文件\n",
    "with open(\".\\\\数据\\\\new三体.txt\", \"r\", encoding=\"utf-8\") as file:\n",
    "    text = file.read()\n",
    "# text = text1.strip()\n",
    "\n",
    "# 使用spaCy处理文本\n",
    "doc = nlp(text)\n",
    "\n",
    "# 初始化字典来存储人名出现的次数\n",
    "people_counts = {}\n",
    "\n",
    "# 遍历文档中的实体\n",
    "for ent in doc.ents:\n",
    "    if ent.label_ == \"PERSON\":\n",
    "        # 获取人名并更新字典\n",
    "        name = ent.text\n",
    "        if name in people_counts:\n",
    "            people_counts[name] += 1\n",
    "        else:\n",
    "            people_counts[name] = 1\n",
    "        print(name\n",
    ")\n",
    "# 定义要写入CSV文件的字段名\n",
    "fieldnames = [\"人名\", \"出现次数\"]\n",
    "\n",
    "# 打开CSV文件进行写入\n",
    "with open(\"txt/people_counts.csv\", \"w\", newline=\"\", encoding=\"utf-8\") as csvfile:\n",
    "    writer = csv.DictWriter(csvfile, fieldnames=fieldnames)\n",
    "    writer.writeheader()  # 写入表头\n",
    "    # 遍历字典，写入每一项到CSV文件\n",
    "    for name, count in people_counts.items():\n",
    "        writer.writerow({\"人名\": name, \"出现次数\": count})\n",
    "\n",
    "print(\"人名及其出现次数已经保存到CSV文件中。\")\n"
   ]
  },
  {
   "cell_type": "code",
   "execution_count": null,
   "id": "0a95e1e7",
   "metadata": {},
   "outputs": [],
   "source": []
  },
  {
   "cell_type": "code",
   "execution_count": null,
   "id": "168d6ca4",
   "metadata": {},
   "outputs": [],
   "source": []
  },
  {
   "cell_type": "code",
   "execution_count": null,
   "id": "8640a428",
   "metadata": {},
   "outputs": [],
   "source": []
  }
 ],
 "metadata": {
  "kernelspec": {
   "display_name": "Python 3 (ipykernel)",
   "language": "python",
   "name": "python3"
  },
  "language_info": {
   "codemirror_mode": {
    "name": "ipython",
    "version": 3
   },
   "file_extension": ".py",
   "mimetype": "text/x-python",
   "name": "python",
   "nbconvert_exporter": "python",
   "pygments_lexer": "ipython3",
   "version": "3.9.7"
  }
 },
 "nbformat": 4,
 "nbformat_minor": 5
}
