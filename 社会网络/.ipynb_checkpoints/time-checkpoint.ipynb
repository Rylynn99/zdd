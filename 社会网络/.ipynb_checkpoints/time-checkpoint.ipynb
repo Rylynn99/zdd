{
 "cells": [
  {
   "cell_type": "code",
   "execution_count": 7,
   "id": "1bcd6584",
   "metadata": {},
   "outputs": [],
   "source": [
    "# %load C:\\Users\\17702\\Desktop\\社会网络\\time.py\n",
    "import re\n",
    "\n",
    "\n",
    "with open('.\\\\数据\\\\三体.txt', 'r', encoding='utf-8') as file:\n",
    "    text = file.read()\n",
    "\n",
    "# 使用正则表达式按章节分割文本\n",
    "chapters = re.split(r'第[\\d一二三四五六七八九十百千万]+章', text)\n",
    "\n",
    "# 定义一个函数来提取特定章节范围的文本\n",
    "def extract_chapters(start_chapter, end_chapter, exclude_chapters=None):\n",
    "    chapters_to_include = [\n",
    "        chapters[i] for i in range(start_chapter, end_chapter + 1)\n",
    "        if not exclude_chapters or i not in exclude_chapters\n",
    "    ]\n",
    "    return ' '.join(chapters_to_include)\n",
    "\n",
    "# 提取各个时代的章节内容\n",
    "magic_era_text = extract_chapters(123, 124)        # 魔法时代\n",
    "golden_era_text = extract_chapters(1, 57)         # 黄金岁月\n",
    "crisis_era_text = extract_chapters(58, 135, [123, 124])  # 危机纪元，排除魔法时代\n",
    "post_deterrence_text = extract_chapters(136, 148) # 威慑纪元\n",
    "Afterpost_deterrence_text = extract_chapters(149, 162) # 威慑后\n",
    "broadcast_era_text = extract_chapters(163, 185)   # 广播纪元\n",
    "shelter_era_text = extract_chapters(186, 205)     # 掩体纪元\n",
    "galaxy_era_text = extract_chapters(206, 212)      # 银河纪元\n",
    "\n",
    "# 各个纪元文本的保存函数\n",
    "def save_era_text(era_text, filename):\n",
    "    with open(filename, 'w', encoding='utf-8') as file:\n",
    "        file.write(era_text)\n",
    "\n",
    "# 保存每个纪元的文本到单独的文件\n",
    "save_era_text(magic_era_text, '魔法时代.txt')\n",
    "save_era_text(golden_era_text, '黄金年代.txt')\n",
    "save_era_text(crisis_era_text, '危机纪元.txt')\n",
    "save_era_text(post_deterrence_text, '威慑纪元.txt')\n",
    "save_era_text(broadcast_era_text, '广播纪元.txt')\n",
    "save_era_text(shelter_era_text, '掩体纪元.txt')\n",
    "save_era_text(galaxy_era_text, '银河纪元.txt')\n",
    "save_era_text(Afterpost_deterrence_text, '威慑后.txt')\n",
    "\n",
    "\n",
    "\n"
   ]
  },
  {
   "cell_type": "code",
   "execution_count": 6,
   "id": "48ad36ba",
   "metadata": {},
   "outputs": [
    {
     "data": {
      "text/plain": [
       "'C:\\\\Users\\\\17702\\\\Desktop\\\\社会网络'"
      ]
     },
     "execution_count": 6,
     "metadata": {},
     "output_type": "execute_result"
    }
   ],
   "source": []
  },
  {
   "cell_type": "code",
   "execution_count": 4,
   "id": "a846ae6b",
   "metadata": {},
   "outputs": [
    {
     "name": "stdout",
     "output_type": "stream",
     "text": [
      "Note: you may need to restart the kernel to use updated packages.\n"
     ]
    },
    {
     "name": "stderr",
     "output_type": "stream",
     "text": [
      "WARNING: Ignoring invalid distribution -illow (d:\\users\\haruka\\anaconda3\\lib\\site-packages)\n",
      "ERROR: Could not find a version that satisfies the requirement os (from versions: none)\n",
      "ERROR: No matching distribution found for os\n"
     ]
    }
   ],
   "source": [
    "\n"
   ]
  },
  {
   "cell_type": "code",
   "execution_count": null,
   "id": "86d9c398",
   "metadata": {},
   "outputs": [],
   "source": []
  }
 ],
 "metadata": {
  "kernelspec": {
   "display_name": "Python 3 (ipykernel)",
   "language": "python",
   "name": "python3"
  },
  "language_info": {
   "codemirror_mode": {
    "name": "ipython",
    "version": 3
   },
   "file_extension": ".py",
   "mimetype": "text/x-python",
   "name": "python",
   "nbconvert_exporter": "python",
   "pygments_lexer": "ipython3",
   "version": "3.9.7"
  }
 },
 "nbformat": 4,
 "nbformat_minor": 5
}
