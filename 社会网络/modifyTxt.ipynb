{
 "cells": [
  {
   "cell_type": "code",
   "execution_count": 2,
   "id": "30e7e372",
   "metadata": {},
   "outputs": [
    {
     "name": "stderr",
     "output_type": "stream",
     "text": [
      "Building prefix dict from the default dictionary ...\n",
      "Loading model from cache C:\\Users\\17702\\AppData\\Local\\Temp\\jieba.cache\n",
      "Loading model cost 0.651 seconds.\n",
      "Prefix dict has been built successfully.\n"
     ]
    },
    {
     "name": "stdout",
     "output_type": "stream",
     "text": [
      "删除停用词和分词成功！！！\n"
     ]
    }
   ],
   "source": [
    "# %load C:\\Users\\17702\\Desktop\\社会网络\\statisticalData.py\n",
    "import jieba\n",
    "# 创建停用词列表 使用哈工大的停用词表\n",
    "def stopwordslist():\n",
    "    stopwords = [line.strip() for line in open('.\\\\数据\\\\hit_stopwords.txt', encoding='UTF-8').readlines()]\n",
    "    return stopwords\n",
    "\n",
    "# 对句子进行中文分词\n",
    "def seg_depart(sentence):\n",
    "    # 对文档中的每一行进行中文分词\n",
    "    sentence_depart = jieba.cut(sentence.strip())\n",
    "    # 创建一个停用词列表\n",
    "    stopwords = stopwordslist()\n",
    "    # 输出结果为outstr\n",
    "    outstr = ''\n",
    "    # 去停用词\n",
    "    for word in sentence_depart:\n",
    "        if word not in stopwords:\n",
    "            if word != '\\t':\n",
    "                outstr += word\n",
    "                outstr += \"\"\n",
    "    return outstr\n",
    "\n",
    "\n",
    "# 给出文档路径\n",
    "filename = \".\\\\数据\\\\三体.txt\"\n",
    "outfilename = \".\\\\数据\\\\new三体.txt\"\n",
    "inputs = open(filename, 'r', encoding='UTF-8')\n",
    "outputs = open(outfilename, 'w', encoding='UTF-8')\n",
    "\n",
    "# 将输出结果写入out.txt中\n",
    "for line in inputs:\n",
    "    line_seg = seg_depart(line)\n",
    "    outputs.write(line_seg)\n",
    "\n",
    "outputs.close()  # 关闭文件\n",
    "inputs.close()\n",
    "print(\"删除停用词和分词成功！！！\")\n"
   ]
  },
  {
   "cell_type": "code",
   "execution_count": null,
   "id": "86303aa9",
   "metadata": {},
   "outputs": [],
   "source": []
  }
 ],
 "metadata": {
  "kernelspec": {
   "display_name": "Python 3 (ipykernel)",
   "language": "python",
   "name": "python3"
  },
  "language_info": {
   "codemirror_mode": {
    "name": "ipython",
    "version": 3
   },
   "file_extension": ".py",
   "mimetype": "text/x-python",
   "name": "python",
   "nbconvert_exporter": "python",
   "pygments_lexer": "ipython3",
   "version": "3.9.7"
  }
 },
 "nbformat": 4,
 "nbformat_minor": 5
}
